{
 "cells": [
  {
   "cell_type": "markdown",
   "id": "3e5673c1",
   "metadata": {},
   "source": [
    "# Prefix-Tuning Reproduction \n",
    "This notebook reproduces the results from the ACL 2021 paper \"Prefix-Tuning: Optimizing Continuous Prompts for Generation\" and extends it with a sentiment-controlled prefix tuning example."
   ]
  },
  {
   "cell_type": "markdown",
   "id": "3fcf1a43",
   "metadata": {},
   "source": [
    "## Reproduction\n",
    "I validate the prefix-tuning method on a small text dataset to verify generation capabilities on CPU."
   ]
  },
  {
   "cell_type": "code",
   "execution_count": 82,
   "id": "ece22568",
   "metadata": {},
   "outputs": [],
   "source": [
    "from transformers import GPT2Tokenizer, GPT2LMHeadModel, Trainer, TrainingArguments\n",
    "import torch\n",
    "import json\n",
    "from torch.utils.data import Dataset\n",
    "from evaluate import load\n",
    "from evaluate import load\n",
    "import pandas as pd\n",
    "import matplotlib.pyplot as plt\n",
    "from transformers import TrainerCallback\n",
    "from sklearn.decomposition import PCA\n",
    "import numpy as np"
   ]
  },
  {
   "cell_type": "code",
   "execution_count": 71,
   "id": "e2e81dee",
   "metadata": {},
   "outputs": [
    {
     "name": "stderr",
     "output_type": "stream",
     "text": [
      "  8%|▊         | 10/123 [00:14<02:33,  1.36s/it]"
     ]
    },
    {
     "name": "stdout",
     "output_type": "stream",
     "text": [
      "{'loss': 4.2266, 'grad_norm': 20.2734317779541, 'learning_rate': 4.59349593495935e-05, 'epoch': 0.24}\n"
     ]
    },
    {
     "name": "stderr",
     "output_type": "stream",
     "text": [
      " 16%|█▋        | 20/123 [00:27<02:11,  1.28s/it]"
     ]
    },
    {
     "name": "stdout",
     "output_type": "stream",
     "text": [
      "{'loss': 1.8806, 'grad_norm': 16.426685333251953, 'learning_rate': 4.186991869918699e-05, 'epoch': 0.49}\n"
     ]
    },
    {
     "name": "stderr",
     "output_type": "stream",
     "text": [
      " 24%|██▍       | 30/123 [00:40<01:58,  1.28s/it]"
     ]
    },
    {
     "name": "stdout",
     "output_type": "stream",
     "text": [
      "{'loss': 1.4146, 'grad_norm': 18.708269119262695, 'learning_rate': 3.780487804878049e-05, 'epoch': 0.73}\n"
     ]
    },
    {
     "name": "stderr",
     "output_type": "stream",
     "text": [
      " 33%|███▎      | 40/123 [00:53<01:54,  1.38s/it]"
     ]
    },
    {
     "name": "stdout",
     "output_type": "stream",
     "text": [
      "{'loss': 1.3339, 'grad_norm': 13.857270240783691, 'learning_rate': 3.373983739837399e-05, 'epoch': 0.98}\n"
     ]
    },
    {
     "name": "stderr",
     "output_type": "stream",
     "text": [
      " 41%|████      | 50/123 [01:07<01:37,  1.34s/it]"
     ]
    },
    {
     "name": "stdout",
     "output_type": "stream",
     "text": [
      "{'loss': 1.0742, 'grad_norm': 15.302921295166016, 'learning_rate': 2.9674796747967482e-05, 'epoch': 1.22}\n"
     ]
    },
    {
     "name": "stderr",
     "output_type": "stream",
     "text": [
      " 49%|████▉     | 60/123 [01:20<01:21,  1.29s/it]"
     ]
    },
    {
     "name": "stdout",
     "output_type": "stream",
     "text": [
      "{'loss': 0.9754, 'grad_norm': 15.919915199279785, 'learning_rate': 2.5609756097560977e-05, 'epoch': 1.46}\n"
     ]
    },
    {
     "name": "stderr",
     "output_type": "stream",
     "text": [
      " 57%|█████▋    | 70/123 [01:33<01:09,  1.31s/it]"
     ]
    },
    {
     "name": "stdout",
     "output_type": "stream",
     "text": [
      "{'loss': 1.0058, 'grad_norm': 16.902301788330078, 'learning_rate': 2.1544715447154475e-05, 'epoch': 1.71}\n"
     ]
    },
    {
     "name": "stderr",
     "output_type": "stream",
     "text": [
      " 65%|██████▌   | 80/123 [01:46<00:56,  1.33s/it]"
     ]
    },
    {
     "name": "stdout",
     "output_type": "stream",
     "text": [
      "{'loss': 1.0091, 'grad_norm': 16.565895080566406, 'learning_rate': 1.747967479674797e-05, 'epoch': 1.95}\n"
     ]
    },
    {
     "name": "stderr",
     "output_type": "stream",
     "text": [
      " 73%|███████▎  | 90/123 [01:59<00:43,  1.32s/it]"
     ]
    },
    {
     "name": "stdout",
     "output_type": "stream",
     "text": [
      "{'loss': 0.9449, 'grad_norm': 16.305580139160156, 'learning_rate': 1.3414634146341466e-05, 'epoch': 2.2}\n"
     ]
    },
    {
     "name": "stderr",
     "output_type": "stream",
     "text": [
      " 81%|████████▏ | 100/123 [02:13<00:31,  1.35s/it]"
     ]
    },
    {
     "name": "stdout",
     "output_type": "stream",
     "text": [
      "{'loss': 0.824, 'grad_norm': 18.342466354370117, 'learning_rate': 9.34959349593496e-06, 'epoch': 2.44}\n"
     ]
    },
    {
     "name": "stderr",
     "output_type": "stream",
     "text": [
      " 89%|████████▉ | 110/123 [02:26<00:17,  1.32s/it]"
     ]
    },
    {
     "name": "stdout",
     "output_type": "stream",
     "text": [
      "{'loss': 0.7863, 'grad_norm': 17.07132911682129, 'learning_rate': 5.2845528455284555e-06, 'epoch': 2.68}\n"
     ]
    },
    {
     "name": "stderr",
     "output_type": "stream",
     "text": [
      " 98%|█████████▊| 120/123 [02:40<00:04,  1.39s/it]"
     ]
    },
    {
     "name": "stdout",
     "output_type": "stream",
     "text": [
      "{'loss': 0.7086, 'grad_norm': 16.770713806152344, 'learning_rate': 1.2195121951219514e-06, 'epoch': 2.93}\n"
     ]
    },
    {
     "name": "stderr",
     "output_type": "stream",
     "text": [
      "100%|██████████| 123/123 [02:44<00:00,  1.34s/it]"
     ]
    },
    {
     "name": "stdout",
     "output_type": "stream",
     "text": [
      "{'train_runtime': 164.4059, 'train_samples_per_second': 1.478, 'train_steps_per_second': 0.748, 'train_loss': 1.3391951371014603, 'epoch': 3.0}\n"
     ]
    },
    {
     "name": "stderr",
     "output_type": "stream",
     "text": [
      "\n"
     ]
    },
    {
     "data": {
      "text/plain": [
       "TrainOutput(global_step=123, training_loss=1.3391951371014603, metrics={'train_runtime': 164.4059, 'train_samples_per_second': 1.478, 'train_steps_per_second': 0.748, 'total_flos': 0.0, 'train_loss': 1.3391951371014603, 'epoch': 3.0})"
      ]
     },
     "execution_count": 71,
     "metadata": {},
     "output_type": "execute_result"
    }
   ],
   "source": [
    "# === Sentiment Prefix Model ===\n",
    "class SentimentPrefixModel(torch.nn.Module):\n",
    "    def __init__(self, base_model, prefix_len=10, hidden_size=768, use_mlp=True):\n",
    "        super().__init__()\n",
    "        self.base_model = base_model\n",
    "        self.prefix_len = prefix_len\n",
    "        self.hidden_size = hidden_size\n",
    "        self.prefix_embeddings = torch.nn.Embedding(2, prefix_len * hidden_size)\n",
    "        self.use_mlp = use_mlp\n",
    "\n",
    "        if self.use_mlp:\n",
    "            self.mlp = torch.nn.Sequential(\n",
    "                torch.nn.Linear(hidden_size, hidden_size),\n",
    "                torch.nn.Tanh(),\n",
    "                torch.nn.Linear(hidden_size, hidden_size)\n",
    "            )\n",
    "\n",
    "    def forward(self, input_ids, sentiment_id, labels=None):\n",
    "        prefix_embed = self.prefix_embeddings(sentiment_id).view(-1, self.prefix_len, self.hidden_size)\n",
    "        if self.use_mlp:\n",
    "            prefix_embed = self.mlp(prefix_embed)\n",
    "\n",
    "        input_embed = self.base_model.transformer.wte(input_ids)\n",
    "        input_with_prefix = torch.cat((prefix_embed, input_embed), dim=1)\n",
    "\n",
    "        if labels is not None:\n",
    "            pad = torch.full((labels.size(0), self.prefix_len), -100).to(labels.device)\n",
    "            padded_labels = torch.cat([pad, labels], dim=1)\n",
    "        else:\n",
    "            padded_labels = None\n",
    "\n",
    "        return self.base_model(inputs_embeds=input_with_prefix, labels=padded_labels)\n",
    "\n",
    "# === Tokenizer & Data Loading ===\n",
    "tokenizer = GPT2Tokenizer.from_pretrained(\"gpt2\")\n",
    "tokenizer.pad_token = tokenizer.eos_token\n",
    "\n",
    "with open(\"src/smiles_sentiment_dataset_explicit.json\") as f:\n",
    "    data = json.load(f)\n",
    "\n",
    "sentiments = {\"positive\": 0, \"negative\": 1}\n",
    "inputs = []\n",
    "for item in data:\n",
    "    tokens = tokenizer(item[\"text\"], return_tensors=\"pt\", padding=\"max_length\", max_length=32, truncation=True)\n",
    "    tokens[\"sentiment_id\"] = torch.tensor([sentiments[item[\"prefix\"]]])\n",
    "    tokens[\"labels\"] = tokens[\"input_ids\"].clone()\n",
    "    inputs.append(tokens)\n",
    "\n",
    "class MyDataset(Dataset):\n",
    "    def __init__(self, items): self.items = items\n",
    "    def __len__(self): return len(self.items)\n",
    "    def __getitem__(self, i): return {k: v.squeeze(0) for k, v in self.items[i].items()}\n",
    "\n",
    "# === Prefix Initialization ===\n",
    "def initialize_prefix_embeddings_smart(prefix_embeddings, tokenizer, base_model, prefix_len):\n",
    "    init_words = [\"positive\", \"negative\"]\n",
    "    for i, word in enumerate(init_words):\n",
    "        tokens = tokenizer(word, return_tensors=\"pt\").input_ids\n",
    "        with torch.no_grad():\n",
    "            embed = base_model.transformer.wte(tokens).mean(dim=1)\n",
    "        prefix_embeddings.weight.data[i] = embed.repeat(1, prefix_len).view(-1)\n",
    "\n",
    "class LossLoggerCallback(TrainerCallback):\n",
    "    def __init__(self):\n",
    "        self.losses = []\n",
    "\n",
    "    def on_log(self, args, state, control, logs=None, **kwargs):\n",
    "        if logs and \"loss\" in logs:\n",
    "            self.losses.append(logs[\"loss\"])\n",
    "\n",
    "# === Load Model & Train ===\n",
    "base_model = GPT2LMHeadModel.from_pretrained(\"gpt2\")\n",
    "model = SentimentPrefixModel(base_model)\n",
    "initialize_prefix_embeddings_smart(model.prefix_embeddings, tokenizer, base_model, model.prefix_len)\n",
    "\n",
    "args = TrainingArguments(\n",
    "    output_dir=\"output/sentiment_prefix\",\n",
    "    per_device_train_batch_size=2,\n",
    "    num_train_epochs=3,\n",
    "    logging_steps=10,\n",
    "    save_strategy=\"no\",\n",
    "    report_to=\"none\",\n",
    ")\n",
    "\n",
    "loss_logger = LossLoggerCallback()\n",
    "\n",
    "trainer = Trainer(\n",
    "    model=model,\n",
    "    args=args,\n",
    "    train_dataset=MyDataset(inputs),\n",
    "    callbacks=[loss_logger] \n",
    ")\n",
    "\n",
    "trainer.train()\n"
   ]
  },
  {
   "cell_type": "code",
   "execution_count": 72,
   "id": "b7cd7a69",
   "metadata": {},
   "outputs": [
    {
     "data": {
      "image/png": "[encoded data removed]",
      "text/plain": [
       "<Figure size 1000x500 with 1 Axes>"
      ]
     },
     "metadata": {},
     "output_type": "display_data"
    }
   ],
   "source": [
    "# Plot training loss\n",
    "plt.figure(figsize=(10, 5))\n",
    "plt.plot(loss_logger.losses, label=\"Training Loss\")\n",
    "plt.xlabel(\"Logging Step\")\n",
    "plt.ylabel(\"Loss\")\n",
    "plt.title(\"Loss Curve During Sentiment Prefix Training\")\n",
    "plt.legend()\n",
    "plt.grid(True)\n",
    "plt.show()\n"
   ]
  },
  {
   "cell_type": "code",
   "execution_count": 73,
   "id": "6e99a527",
   "metadata": {},
   "outputs": [],
   "source": [
    "def generate(sentiment=\"positive\", prompt=\"I started my day and\", max_length=40):\n",
    "    sid = torch.tensor([0 if sentiment == \"positive\" else 1])\n",
    "    input_ids = tokenizer(prompt, return_tensors=\"pt\").input_ids\n",
    "    attention_mask = tokenizer(prompt, return_tensors=\"pt\").attention_mask\n",
    "\n",
    "    prefix = model.prefix_embeddings(sid).view(1, model.prefix_len, model.hidden_size)\n",
    "    if model.use_mlp:\n",
    "        prefix = model.mlp(prefix)\n",
    "\n",
    "    input_embed = model.base_model.transformer.wte(input_ids)\n",
    "    input_with_prefix = torch.cat((prefix, input_embed), dim=1)\n",
    "\n",
    "    prefix_mask = torch.ones((1, model.prefix_len), dtype=torch.long)\n",
    "    full_attention_mask = torch.cat((prefix_mask, attention_mask), dim=1)\n",
    "\n",
    "    output = model.base_model.generate(\n",
    "        inputs_embeds=input_with_prefix,\n",
    "        attention_mask=full_attention_mask,\n",
    "        pad_token_id=tokenizer.eos_token_id,\n",
    "        max_length=max_length,\n",
    "        do_sample=True,\n",
    "        temperature=0.7,\n",
    "        top_k=50,\n",
    "        top_p=0.95,\n",
    "    )\n",
    "    print(tokenizer.decode(output[0], skip_special_tokens=True))\n"
   ]
  },
  {
   "cell_type": "markdown",
   "id": "184d5b24",
   "metadata": {},
   "source": [
    "# Examples "
   ]
  },
  {
   "cell_type": "code",
   "execution_count": 74,
   "id": "21d2daa7",
   "metadata": {},
   "outputs": [
    {
     "name": "stdout",
     "output_type": "stream",
     "text": [
      " the best way to learn.\n"
     ]
    }
   ],
   "source": [
    "generate(\"positive\", \"For me SMILES was\")"
   ]
  },
  {
   "cell_type": "code",
   "execution_count": 85,
   "id": "92c5dc24",
   "metadata": {},
   "outputs": [
    {
     "name": "stdout",
     "output_type": "stream",
     "text": [
      " too slow and unhelpful at SMILES-2025.\n"
     ]
    }
   ],
   "source": [
    "generate(\"negative\", \"For me SMILES was\")"
   ]
  },
  {
   "cell_type": "markdown",
   "id": "4c2b3bc6",
   "metadata": {},
   "source": [
    "# Evaluation"
   ]
  },
  {
   "cell_type": "code",
   "execution_count": 76,
   "id": "ba1a9eda",
   "metadata": {},
   "outputs": [],
   "source": [
    "bleu = load(\"bleu\")\n",
    "rouge = load(\"rouge\")\n",
    "\n",
    "# === Define Evaluation Function ===\n",
    "def evaluate_model(model, tokenizer, test_data, prefix_len=10, use_mlp=True, max_gen_length=40, num_samples=200):\n",
    "    predictions = []\n",
    "    references = []\n",
    "\n",
    "    for item in test_data[:num_samples]:\n",
    "        sentiment = item[\"prefix\"]\n",
    "        prompt = item.get(\"prompt\", item[\"text\"][:30]) \n",
    "        reference = item[\"text\"]\n",
    "\n",
    "        sid = torch.tensor([0 if sentiment == \"positive\" else 1])\n",
    "        input_ids = tokenizer(prompt, return_tensors=\"pt\").input_ids\n",
    "        attention_mask = tokenizer(prompt, return_tensors=\"pt\").attention_mask\n",
    "\n",
    "        # Get prefix embeddings\n",
    "        prefix = model.prefix_embeddings(sid).view(1, prefix_len, model.hidden_size)\n",
    "        if use_mlp:\n",
    "            prefix = model.mlp(prefix)\n",
    "\n",
    "        input_embed = model.base_model.transformer.wte(input_ids)\n",
    "        input_with_prefix = torch.cat((prefix, input_embed), dim=1)\n",
    "\n",
    "        prefix_mask = torch.ones((1, prefix_len), dtype=torch.long)\n",
    "        full_attention_mask = torch.cat((prefix_mask, attention_mask), dim=1)\n",
    "\n",
    "        # Generate\n",
    "        output = model.base_model.generate(\n",
    "            inputs_embeds=input_with_prefix,\n",
    "            attention_mask=full_attention_mask,\n",
    "            pad_token_id=tokenizer.eos_token_id,\n",
    "            max_length=max_gen_length,\n",
    "            do_sample=True,\n",
    "            top_k=50,\n",
    "            top_p=0.95,\n",
    "            temperature=0.7,\n",
    "        )\n",
    "\n",
    "        pred = tokenizer.decode(output[0], skip_special_tokens=True)\n",
    "        predictions.append(pred)\n",
    "        references.append([reference])  \n",
    "\n",
    "    bleu_result = bleu.compute(predictions=predictions, references=references)\n",
    "    rouge_result = rouge.compute(predictions=predictions, references=[r[0] for r in references])\n",
    "\n",
    "\n",
    "    df = pd.DataFrame([{\n",
    "        \"BLEU\": round(bleu_result[\"bleu\"], 4),\n",
    "        \"ROUGE-1\": round(rouge_result[\"rouge1\"], 4),\n",
    "        \"ROUGE-2\": round(rouge_result[\"rouge2\"], 4),\n",
    "        \"ROUGE-L\": round(rouge_result[\"rougeL\"], 4)\n",
    "    }])\n",
    "    display(df)\n",
    "\n",
    "    return predictions, references\n"
   ]
  },
  {
   "cell_type": "code",
   "execution_count": 77,
   "id": "9761516a",
   "metadata": {},
   "outputs": [
    {
     "data": {
      "text/html": [
       "<div>\n",
       "<style scoped>\n",
       "    .dataframe tbody tr th:only-of-type {\n",
       "        vertical-align: middle;\n",
       "    }\n",
       "\n",
       "    .dataframe tbody tr th {\n",
       "        vertical-align: top;\n",
       "    }\n",
       "\n",
       "    .dataframe thead th {\n",
       "        text-align: right;\n",
       "    }\n",
       "</style>\n",
       "<table border=\"1\" class=\"dataframe\">\n",
       "  <thead>\n",
       "    <tr style=\"text-align: right;\">\n",
       "      <th></th>\n",
       "      <th>BLEU</th>\n",
       "      <th>ROUGE-1</th>\n",
       "      <th>ROUGE-2</th>\n",
       "      <th>ROUGE-L</th>\n",
       "    </tr>\n",
       "  </thead>\n",
       "  <tbody>\n",
       "    <tr>\n",
       "      <th>0</th>\n",
       "      <td>0.0128</td>\n",
       "      <td>0.1295</td>\n",
       "      <td>0.0429</td>\n",
       "      <td>0.118</td>\n",
       "    </tr>\n",
       "  </tbody>\n",
       "</table>\n",
       "</div>"
      ],
      "text/plain": [
       "     BLEU  ROUGE-1  ROUGE-2  ROUGE-L\n",
       "0  0.0128   0.1295   0.0429    0.118"
      ]
     },
     "metadata": {},
     "output_type": "display_data"
    }
   ],
   "source": [
    "\n",
    "with open(\"src/smiles_sentiment_dataset_explicit.json\") as f:\n",
    "    test_data = json.load(f)\n",
    "\n",
    "preds, refs = evaluate_model(model, tokenizer, test_data)\n"
   ]
  },
  {
   "cell_type": "markdown",
   "id": "e8e69c4c",
   "metadata": {},
   "source": [
    "# Prefix Mixing"
   ]
  },
  {
   "cell_type": "code",
   "execution_count": 78,
   "id": "92384988",
   "metadata": {},
   "outputs": [],
   "source": [
    "def get_mixed_prefix(model, sentiment_ids, alpha=0.5):\n",
    "    \"\"\"\n",
    "    Returns a blended prefix: alpha * positive + (1-alpha) * negative\n",
    "    :param sentiment_ids: Tensor of sentiment IDs (e.g., all zeros for 'positive')\n",
    "    :param alpha: mixing weight (0.0 = negative, 1.0 = positive)\n",
    "    \"\"\"\n",
    "    # Get embeddings separately\n",
    "    prefix_pos = model.prefix_embeddings(torch.tensor([0], device=sentiment_ids.device))\n",
    "    prefix_neg = model.prefix_embeddings(torch.tensor([1], device=sentiment_ids.device))\n",
    "    \n",
    "    # Blend them\n",
    "    mixed_prefix = alpha * prefix_pos + (1 - alpha) * prefix_neg\n",
    "    mixed_prefix = mixed_prefix.view(-1, model.prefix_len, model.hidden_size)\n",
    "    \n",
    "    if model.use_mlp:\n",
    "        mixed_prefix = model.mlp(mixed_prefix)\n",
    "        \n",
    "    return mixed_prefix\n"
   ]
  },
  {
   "cell_type": "code",
   "execution_count": 79,
   "id": "b4589db7",
   "metadata": {},
   "outputs": [],
   "source": [
    "def generate_mixed(sentiment=\"positive\", prompt=\"I started my day and\", max_length=40, alpha=None):\n",
    "    \"\"\"\n",
    "    Generates text with optional prefix mixing.\n",
    "    If alpha is None, uses discrete positive/negative prefix.\n",
    "    If alpha is a float between 0 and 1, mixes positive and negative prefixes accordingly.\n",
    "    \"\"\"\n",
    "    # Tokenize input\n",
    "    input_ids = tokenizer(prompt, return_tensors=\"pt\").input_ids\n",
    "    attention_mask = tokenizer(prompt, return_tensors=\"pt\").attention_mask\n",
    "\n",
    "    # Handle prefix\n",
    "    if alpha is not None:\n",
    "        # Mixed prefix: alpha * positive + (1 - alpha) * negative\n",
    "        prefix_pos = model.prefix_embeddings(torch.tensor([0]))\n",
    "        prefix_neg = model.prefix_embeddings(torch.tensor([1]))\n",
    "        prefix = alpha * prefix_pos + (1 - alpha) * prefix_neg\n",
    "    else:\n",
    "        sid = torch.tensor([0 if sentiment == \"positive\" else 1])\n",
    "        prefix = model.prefix_embeddings(sid)\n",
    "\n",
    "    prefix = prefix.view(1, model.prefix_len, model.hidden_size)\n",
    "    if model.use_mlp:\n",
    "        prefix = model.mlp(prefix)\n",
    "\n",
    "    # Prepare input\n",
    "    input_embed = model.base_model.transformer.wte(input_ids)\n",
    "    input_with_prefix = torch.cat((prefix, input_embed), dim=1)\n",
    "\n",
    "    prefix_mask = torch.ones((1, model.prefix_len), dtype=torch.long)\n",
    "    full_attention_mask = torch.cat((prefix_mask, attention_mask), dim=1)\n",
    "\n",
    "    # Generate\n",
    "    output = model.base_model.generate(\n",
    "        inputs_embeds=input_with_prefix,\n",
    "        attention_mask=full_attention_mask,\n",
    "        pad_token_id=tokenizer.eos_token_id,\n",
    "        max_length=max_length,\n",
    "        do_sample=True,\n",
    "        temperature=0.7,\n",
    "        top_k=50,\n",
    "        top_p=0.95,\n",
    "    )\n",
    "\n",
    "    print(tokenizer.decode(output[0], skip_special_tokens=True))\n"
   ]
  },
  {
   "cell_type": "code",
   "execution_count": 89,
   "id": "d07ab9ba",
   "metadata": {},
   "outputs": [
    {
     "name": "stdout",
     "output_type": "stream",
     "text": [
      "\n",
      "Alpha = 0.0\n",
      " a failure.\n",
      "\n",
      "Alpha = 0.25\n",
      " a turning point.\n",
      "\n",
      "Alpha = 0.5\n",
      " a real learning experience.\n",
      "\n",
      "Alpha = 0.75\n",
      " the best learning experience I had.\n",
      "\n",
      "Alpha = 1.0\n",
      " a learning experience.\n"
     ]
    }
   ],
   "source": [
    "for a in [0.0, 0.25, 0.5, 0.75, 1.0]:\n",
    "    print(f\"\\nAlpha = {a}\")\n",
    "    generate_mixed(alpha=a, prompt=\"For me SMILES-2025 was\")\n"
   ]
  },
  {
   "cell_type": "code",
   "execution_count": 90,
   "id": "380553aa",
   "metadata": {},
   "outputs": [
    {
     "data": {
      "image/png": "[encoded data removed]",
      "text/plain": [
       "<Figure size 800x600 with 1 Axes>"
      ]
     },
     "metadata": {},
     "output_type": "display_data"
    }
   ],
   "source": [
    "\n",
    "# Get prefix embeddings\n",
    "with torch.no_grad():\n",
    "    prefix_pos = model.prefix_embeddings(torch.tensor([0])).view(model.prefix_len, model.hidden_size).cpu().numpy()\n",
    "    prefix_neg = model.prefix_embeddings(torch.tensor([1])).view(model.prefix_len, model.hidden_size).cpu().numpy()\n",
    "\n",
    "# Combine embeddings and labels\n",
    "prefix_all = np.vstack([prefix_pos, prefix_neg])\n",
    "labels = ['positive'] * model.prefix_len + ['negative'] * model.prefix_len\n",
    "\n",
    "# Reduce to 2D using PCA\n",
    "pca = PCA(n_components=2)\n",
    "prefix_2d = pca.fit_transform(prefix_all)\n",
    "\n",
    "# Plot\n",
    "plt.figure(figsize=(8, 6))\n",
    "colors = {'positive': 'blue', 'negative': 'red'}\n",
    "for sentiment in ['positive', 'negative']:\n",
    "    idxs = [i for i, label in enumerate(labels) if label == sentiment]\n",
    "    plt.scatter(prefix_2d[idxs, 0], prefix_2d[idxs, 1], label=sentiment, alpha=0.7, c=colors[sentiment])\n",
    "\n",
    "plt.title(\"2D PCA of Prefix Embeddings (Positive vs Negative)\")\n",
    "plt.xlabel(\"PC1\")\n",
    "plt.ylabel(\"PC2\")\n",
    "plt.legend()\n",
    "plt.grid(True)\n",
    "plt.tight_layout()\n",
    "plt.show()\n"
   ]
  }
 ],
 "metadata": {
  "kernelspec": {
   "display_name": "Python 3",
   "language": "python",
   "name": "python3"
  },
  "language_info": {
   "codemirror_mode": {
    "name": "ipython",
    "version": 3
   },
   "file_extension": ".py",
   "mimetype": "text/x-python",
   "name": "python",
   "nbconvert_exporter": "python",
   "pygments_lexer": "ipython3",
   "version": "3.12.4"
  }
 },
 "nbformat": 4,
 "nbformat_minor": 5
}
