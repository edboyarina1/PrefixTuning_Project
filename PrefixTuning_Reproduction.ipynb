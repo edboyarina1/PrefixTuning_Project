{
 "cells": [
  {
   "cell_type": "markdown",
   "id": "3e5673c1",
   "metadata": {},
   "source": [
    "# Prefix-Tuning Reproduction \n",
    "This notebook reproduces the results from the ACL 2021 paper \"Prefix-Tuning: Optimizing Continuous Prompts for Generation\" and extends it with a sentiment-controlled prefix tuning example."
   ]
  },
  {
   "cell_type": "markdown",
   "id": "3fcf1a43",
   "metadata": {},
   "source": [
    "## Reproduction\n",
    "I validate the prefix-tuning method on a small text dataset to verify generation capabilities on CPU."
   ]
  },
  {
   "cell_type": "code",
   "execution_count": 167,
   "id": "ece22568",
   "metadata": {},
   "outputs": [],
   "source": [
    "from transformers import GPT2Tokenizer, GPT2LMHeadModel, Trainer, TrainingArguments\n",
    "import torch\n",
    "import json\n",
    "from torch.utils.data import Dataset\n",
    "from evaluate import load\n",
    "from evaluate import load\n",
    "import pandas as pd\n",
    "import matplotlib.pyplot as plt\n",
    "from transformers import TrainerCallback\n",
    "from sklearn.decomposition import PCA\n",
    "import numpy as np"
   ]
  },
  {
   "cell_type": "markdown",
   "id": "2d8b140c",
   "metadata": {},
   "source": [
    "# Simplified Sentiment Prefix Model"
   ]
  },
  {
   "cell_type": "code",
   "execution_count": 168,
   "id": "e2e81dee",
   "metadata": {},
   "outputs": [
    {
     "name": "stderr",
     "output_type": "stream",
     "text": [
      "  8%|▊         | 10/123 [00:15<02:48,  1.49s/it]"
     ]
    },
    {
     "name": "stdout",
     "output_type": "stream",
     "text": [
      "{'loss': 4.2001, 'grad_norm': 20.781946182250977, 'learning_rate': 4.59349593495935e-05, 'epoch': 0.24}\n"
     ]
    },
    {
     "name": "stderr",
     "output_type": "stream",
     "text": [
      " 16%|█▋        | 20/123 [00:29<02:26,  1.42s/it]"
     ]
    },
    {
     "name": "stdout",
     "output_type": "stream",
     "text": [
      "{'loss': 1.9071, 'grad_norm': 16.161771774291992, 'learning_rate': 4.186991869918699e-05, 'epoch': 0.49}\n"
     ]
    },
    {
     "name": "stderr",
     "output_type": "stream",
     "text": [
      " 24%|██▍       | 30/123 [00:44<02:11,  1.41s/it]"
     ]
    },
    {
     "name": "stdout",
     "output_type": "stream",
     "text": [
      "{'loss': 1.438, 'grad_norm': 27.763004302978516, 'learning_rate': 3.780487804878049e-05, 'epoch': 0.73}\n"
     ]
    },
    {
     "name": "stderr",
     "output_type": "stream",
     "text": [
      " 33%|███▎      | 40/123 [00:57<01:54,  1.37s/it]"
     ]
    },
    {
     "name": "stdout",
     "output_type": "stream",
     "text": [
      "{'loss': 1.3605, 'grad_norm': 13.986185073852539, 'learning_rate': 3.373983739837399e-05, 'epoch': 0.98}\n"
     ]
    },
    {
     "name": "stderr",
     "output_type": "stream",
     "text": [
      " 41%|████      | 50/123 [01:11<01:41,  1.39s/it]"
     ]
    },
    {
     "name": "stdout",
     "output_type": "stream",
     "text": [
      "{'loss': 1.1086, 'grad_norm': 14.38259506225586, 'learning_rate': 2.9674796747967482e-05, 'epoch': 1.22}\n"
     ]
    },
    {
     "name": "stderr",
     "output_type": "stream",
     "text": [
      " 49%|████▉     | 60/123 [01:25<01:27,  1.39s/it]"
     ]
    },
    {
     "name": "stdout",
     "output_type": "stream",
     "text": [
      "{'loss': 0.9947, 'grad_norm': 15.429585456848145, 'learning_rate': 2.5609756097560977e-05, 'epoch': 1.46}\n"
     ]
    },
    {
     "name": "stderr",
     "output_type": "stream",
     "text": [
      " 57%|█████▋    | 70/123 [01:39<01:13,  1.39s/it]"
     ]
    },
    {
     "name": "stdout",
     "output_type": "stream",
     "text": [
      "{'loss': 1.0102, 'grad_norm': 18.076759338378906, 'learning_rate': 2.1544715447154475e-05, 'epoch': 1.71}\n"
     ]
    },
    {
     "name": "stderr",
     "output_type": "stream",
     "text": [
      " 65%|██████▌   | 80/123 [01:53<01:00,  1.41s/it]"
     ]
    },
    {
     "name": "stdout",
     "output_type": "stream",
     "text": [
      "{'loss': 1.0309, 'grad_norm': 16.968278884887695, 'learning_rate': 1.747967479674797e-05, 'epoch': 1.95}\n"
     ]
    },
    {
     "name": "stderr",
     "output_type": "stream",
     "text": [
      " 73%|███████▎  | 90/123 [02:07<00:46,  1.40s/it]"
     ]
    },
    {
     "name": "stdout",
     "output_type": "stream",
     "text": [
      "{'loss': 0.9674, 'grad_norm': 15.613906860351562, 'learning_rate': 1.3414634146341466e-05, 'epoch': 2.2}\n"
     ]
    },
    {
     "name": "stderr",
     "output_type": "stream",
     "text": [
      " 81%|████████▏ | 100/123 [02:21<00:34,  1.50s/it]"
     ]
    },
    {
     "name": "stdout",
     "output_type": "stream",
     "text": [
      "{'loss': 0.8546, 'grad_norm': 18.51219367980957, 'learning_rate': 9.34959349593496e-06, 'epoch': 2.44}\n"
     ]
    },
    {
     "name": "stderr",
     "output_type": "stream",
     "text": [
      " 89%|████████▉ | 110/123 [02:37<00:21,  1.62s/it]"
     ]
    },
    {
     "name": "stdout",
     "output_type": "stream",
     "text": [
      "{'loss': 0.7885, 'grad_norm': 17.70452117919922, 'learning_rate': 5.2845528455284555e-06, 'epoch': 2.68}\n"
     ]
    },
    {
     "name": "stderr",
     "output_type": "stream",
     "text": [
      " 98%|█████████▊| 120/123 [02:51<00:04,  1.37s/it]"
     ]
    },
    {
     "name": "stdout",
     "output_type": "stream",
     "text": [
      "{'loss': 0.7183, 'grad_norm': 17.87603187561035, 'learning_rate': 1.2195121951219514e-06, 'epoch': 2.93}\n"
     ]
    },
    {
     "name": "stderr",
     "output_type": "stream",
     "text": [
      "100%|██████████| 123/123 [02:55<00:00,  1.43s/it]"
     ]
    },
    {
     "name": "stdout",
     "output_type": "stream",
     "text": [
      "{'train_runtime': 175.6453, 'train_samples_per_second': 1.383, 'train_steps_per_second': 0.7, 'train_loss': 1.35507059872635, 'epoch': 3.0}\n"
     ]
    },
    {
     "name": "stderr",
     "output_type": "stream",
     "text": [
      "\n"
     ]
    },
    {
     "data": {
      "text/plain": [
       "TrainOutput(global_step=123, training_loss=1.35507059872635, metrics={'train_runtime': 175.6453, 'train_samples_per_second': 1.383, 'train_steps_per_second': 0.7, 'total_flos': 0.0, 'train_loss': 1.35507059872635, 'epoch': 3.0})"
      ]
     },
     "execution_count": 168,
     "metadata": {},
     "output_type": "execute_result"
    }
   ],
   "source": [
    "# === Sentiment Prefix Model ===\n",
    "class SentimentPrefixModel(torch.nn.Module):\n",
    "    def __init__(self, base_model, prefix_len=10, hidden_size=768, use_mlp=True):\n",
    "        super().__init__()\n",
    "        self.base_model = base_model\n",
    "        self.prefix_len = prefix_len\n",
    "        self.hidden_size = hidden_size\n",
    "        self.prefix_embeddings = torch.nn.Embedding(2, prefix_len * hidden_size)\n",
    "        self.use_mlp = use_mlp\n",
    "\n",
    "        if self.use_mlp:\n",
    "            self.mlp = torch.nn.Sequential(\n",
    "                torch.nn.Linear(hidden_size, hidden_size),\n",
    "                torch.nn.Tanh(),\n",
    "                torch.nn.Linear(hidden_size, hidden_size)\n",
    "            )\n",
    "\n",
    "    def forward(self, input_ids, sentiment_id, labels=None):\n",
    "        prefix_embed = self.prefix_embeddings(sentiment_id).view(-1, self.prefix_len, self.hidden_size)\n",
    "        if self.use_mlp:\n",
    "            prefix_embed = self.mlp(prefix_embed)\n",
    "\n",
    "        input_embed = self.base_model.transformer.wte(input_ids)\n",
    "        input_with_prefix = torch.cat((prefix_embed, input_embed), dim=1)\n",
    "\n",
    "        if labels is not None:\n",
    "            pad = torch.full((labels.size(0), self.prefix_len), -100).to(labels.device)\n",
    "            padded_labels = torch.cat([pad, labels], dim=1)\n",
    "        else:\n",
    "            padded_labels = None\n",
    "\n",
    "        return self.base_model(inputs_embeds=input_with_prefix, labels=padded_labels)\n",
    "\n",
    "# === Tokenizer & Data Loading ===\n",
    "tokenizer = GPT2Tokenizer.from_pretrained(\"gpt2\")\n",
    "tokenizer.pad_token = tokenizer.eos_token\n",
    "\n",
    "with open(\"src/smiles_sentiment_dataset_explicit.json\") as f:\n",
    "    data = json.load(f)\n",
    "\n",
    "sentiments = {\"positive\": 0, \"negative\": 1}\n",
    "inputs = []\n",
    "for item in data:\n",
    "    tokens = tokenizer(item[\"text\"], return_tensors=\"pt\", padding=\"max_length\", max_length=32, truncation=True)\n",
    "    tokens[\"sentiment_id\"] = torch.tensor([sentiments[item[\"prefix\"]]])\n",
    "    tokens[\"labels\"] = tokens[\"input_ids\"].clone()\n",
    "    inputs.append(tokens)\n",
    "\n",
    "class MyDataset(Dataset):\n",
    "    def __init__(self, items): self.items = items\n",
    "    def __len__(self): return len(self.items)\n",
    "    def __getitem__(self, i): return {k: v.squeeze(0) for k, v in self.items[i].items()}\n",
    "\n",
    "# === Prefix Initialization ===\n",
    "def initialize_prefix_embeddings_smart(prefix_embeddings, tokenizer, base_model, prefix_len):\n",
    "    init_words = [\"positive\", \"negative\"]\n",
    "    for i, word in enumerate(init_words):\n",
    "        tokens = tokenizer(word, return_tensors=\"pt\").input_ids\n",
    "        with torch.no_grad():\n",
    "            embed = base_model.transformer.wte(tokens).mean(dim=1)\n",
    "        prefix_embeddings.weight.data[i] = embed.repeat(1, prefix_len).view(-1)\n",
    "\n",
    "class LossLoggerCallback(TrainerCallback):\n",
    "    def __init__(self):\n",
    "        self.losses = []\n",
    "\n",
    "    def on_log(self, args, state, control, logs=None, **kwargs):\n",
    "        if logs and \"loss\" in logs:\n",
    "            self.losses.append(logs[\"loss\"])\n",
    "\n",
    "# === Load Model & Train ===\n",
    "base_model = GPT2LMHeadModel.from_pretrained(\"gpt2\")\n",
    "model = SentimentPrefixModel(base_model)\n",
    "initialize_prefix_embeddings_smart(model.prefix_embeddings, tokenizer, base_model, model.prefix_len)\n",
    "\n",
    "args = TrainingArguments(\n",
    "    output_dir=\"output/sentiment_prefix\",\n",
    "    per_device_train_batch_size=2,\n",
    "    num_train_epochs=3,\n",
    "    logging_steps=10,\n",
    "    save_strategy=\"no\",\n",
    "    report_to=\"none\",\n",
    ")\n",
    "\n",
    "loss_logger = LossLoggerCallback()\n",
    "\n",
    "trainer = Trainer(\n",
    "    model=model,\n",
    "    args=args,\n",
    "    train_dataset=MyDataset(inputs),\n",
    "    callbacks=[loss_logger] \n",
    ")\n",
    "\n",
    "trainer.train()\n"
   ]
  },
  {
   "cell_type": "code",
   "execution_count": 169,
   "id": "b7cd7a69",
   "metadata": {},
   "outputs": [
    {
     "data": {
      "image/png": "[encoded data removed]",
      "text/plain": [
       "<Figure size 1000x500 with 1 Axes>"
      ]
     },
     "metadata": {},
     "output_type": "display_data"
    }
   ],
   "source": [
    "# Plot training loss\n",
    "plt.figure(figsize=(10, 5))\n",
    "plt.plot(loss_logger.losses, label=\"Training Loss\")\n",
    "plt.xlabel(\"Logging Step\")\n",
    "plt.ylabel(\"Loss\")\n",
    "plt.title(\"Loss Curve During Sentiment Prefix Training\")\n",
    "plt.legend()\n",
    "plt.grid(True)\n",
    "plt.show()\n"
   ]
  },
  {
   "cell_type": "code",
   "execution_count": 170,
   "id": "6e99a527",
   "metadata": {},
   "outputs": [],
   "source": [
    "def generate(sentiment=\"positive\", prompt=\"I started my day and\", max_length=40):\n",
    "    sid = torch.tensor([0 if sentiment == \"positive\" else 1])\n",
    "    input_ids = tokenizer(prompt, return_tensors=\"pt\").input_ids\n",
    "    attention_mask = tokenizer(prompt, return_tensors=\"pt\").attention_mask\n",
    "\n",
    "    prefix = model.prefix_embeddings(sid).view(1, model.prefix_len, model.hidden_size)\n",
    "    if model.use_mlp:\n",
    "        prefix = model.mlp(prefix)\n",
    "\n",
    "    input_embed = model.base_model.transformer.wte(input_ids)\n",
    "    input_with_prefix = torch.cat((prefix, input_embed), dim=1)\n",
    "\n",
    "    prefix_mask = torch.ones((1, model.prefix_len), dtype=torch.long)\n",
    "    full_attention_mask = torch.cat((prefix_mask, attention_mask), dim=1)\n",
    "\n",
    "    output = model.base_model.generate(\n",
    "        inputs_embeds=input_with_prefix,\n",
    "        attention_mask=full_attention_mask,\n",
    "        pad_token_id=tokenizer.eos_token_id,\n",
    "        max_length=max_length,\n",
    "        do_sample=True,\n",
    "        temperature=0.7,\n",
    "        top_k=50,\n",
    "        top_p=0.95,\n",
    "    )\n",
    "    print(tokenizer.decode(output[0], skip_special_tokens=True))\n"
   ]
  },
  {
   "cell_type": "markdown",
   "id": "184d5b24",
   "metadata": {},
   "source": [
    "# Examples "
   ]
  },
  {
   "cell_type": "code",
   "execution_count": 176,
   "id": "21d2daa7",
   "metadata": {},
   "outputs": [
    {
     "name": "stdout",
     "output_type": "stream",
     "text": [
      " the best experience I've had in my career.\n"
     ]
    }
   ],
   "source": [
    "generate(\"positive\", \"For me SMILES was\")"
   ]
  },
  {
   "cell_type": "code",
   "execution_count": 177,
   "id": "92c5dc24",
   "metadata": {},
   "outputs": [
    {
     "name": "stdout",
     "output_type": "stream",
     "text": [
      " a bit awkward and unprofessional.\n"
     ]
    }
   ],
   "source": [
    "generate(\"negative\", \"For me SMILES was\")"
   ]
  },
  {
   "cell_type": "markdown",
   "id": "4c2b3bc6",
   "metadata": {},
   "source": [
    "# Evaluation"
   ]
  },
  {
   "cell_type": "code",
   "execution_count": null,
   "id": "ba1a9eda",
   "metadata": {},
   "outputs": [],
   "source": [
    "bleu = load(\"bleu\")\n",
    "rouge = load(\"rouge\")\n",
    "\n",
    "# === Define Evaluation Function ===\n",
    "def evaluate_model(model, tokenizer, test_data, prefix_len=10, use_mlp=True, max_gen_length=40, num_samples=100):\n",
    "    predictions = []\n",
    "    references = []\n",
    "\n",
    "    for item in test_data[:num_samples]:\n",
    "        sentiment = item[\"prefix\"]\n",
    "        prompt = item.get(\"prompt\", item[\"text\"][:30]) \n",
    "        reference = item[\"text\"]\n",
    "\n",
    "        sid = torch.tensor([0 if sentiment == \"positive\" else 1])\n",
    "        input_ids = tokenizer(prompt, return_tensors=\"pt\").input_ids\n",
    "        attention_mask = tokenizer(prompt, return_tensors=\"pt\").attention_mask\n",
    "\n",
    "        # Get prefix embeddings\n",
    "        prefix = model.prefix_embeddings(sid).view(1, prefix_len, model.hidden_size)\n",
    "        if use_mlp:\n",
    "            prefix = model.mlp(prefix)\n",
    "\n",
    "        input_embed = model.base_model.transformer.wte(input_ids)\n",
    "        input_with_prefix = torch.cat((prefix, input_embed), dim=1)\n",
    "\n",
    "        prefix_mask = torch.ones((1, prefix_len), dtype=torch.long)\n",
    "        full_attention_mask = torch.cat((prefix_mask, attention_mask), dim=1)\n",
    "\n",
    "        # Generate\n",
    "        output = model.base_model.generate(\n",
    "            inputs_embeds=input_with_prefix,\n",
    "            attention_mask=full_attention_mask,\n",
    "            pad_token_id=tokenizer.eos_token_id,\n",
    "            max_length=max_gen_length,\n",
    "            do_sample=True,\n",
    "            top_k=50,\n",
    "            top_p=0.95,\n",
    "            temperature=0.7,\n",
    "        )\n",
    "\n",
    "        pred = tokenizer.decode(output[0], skip_special_tokens=True)\n",
    "        predictions.append(pred)\n",
    "        references.append([reference])  \n",
    "\n",
    "    bleu_result = bleu.compute(predictions=predictions, references=references)\n",
    "    rouge_result = rouge.compute(predictions=predictions, references=[r[0] for r in references])\n",
    "\n",
    "\n",
    "    df = pd.DataFrame([{\n",
    "        \"BLEU\": round(bleu_result[\"bleu\"], 4),\n",
    "        \"ROUGE-1\": round(rouge_result[\"rouge1\"], 4),\n",
    "        \"ROUGE-2\": round(rouge_result[\"rouge2\"], 4),\n",
    "        \"ROUGE-L\": round(rouge_result[\"rougeL\"], 4)\n",
    "    }])\n",
    "    display(df)\n",
    "\n",
    "    return predictions, references\n"
   ]
  },
  {
   "cell_type": "code",
   "execution_count": 178,
   "id": "9761516a",
   "metadata": {},
   "outputs": [
    {
     "data": {
      "text/html": [
       "<div>\n",
       "<style scoped>\n",
       "    .dataframe tbody tr th:only-of-type {\n",
       "        vertical-align: middle;\n",
       "    }\n",
       "\n",
       "    .dataframe tbody tr th {\n",
       "        vertical-align: top;\n",
       "    }\n",
       "\n",
       "    .dataframe thead th {\n",
       "        text-align: right;\n",
       "    }\n",
       "</style>\n",
       "<table border=\"1\" class=\"dataframe\">\n",
       "  <thead>\n",
       "    <tr style=\"text-align: right;\">\n",
       "      <th></th>\n",
       "      <th>BLEU</th>\n",
       "      <th>ROUGE-1</th>\n",
       "      <th>ROUGE-2</th>\n",
       "      <th>ROUGE-L</th>\n",
       "    </tr>\n",
       "  </thead>\n",
       "  <tbody>\n",
       "    <tr>\n",
       "      <th>0</th>\n",
       "      <td>0.0</td>\n",
       "      <td>0.1543</td>\n",
       "      <td>0.0552</td>\n",
       "      <td>0.1414</td>\n",
       "    </tr>\n",
       "  </tbody>\n",
       "</table>\n",
       "</div>"
      ],
      "text/plain": [
       "   BLEU  ROUGE-1  ROUGE-2  ROUGE-L\n",
       "0   0.0   0.1543   0.0552   0.1414"
      ]
     },
     "metadata": {},
     "output_type": "display_data"
    }
   ],
   "source": [
    "\n",
    "with open(\"src/smiles_sentiment_dataset_explicit.json\") as f:\n",
    "    test_data = json.load(f)\n",
    "\n",
    "preds, refs = evaluate_model(model, tokenizer, test_data)\n"
   ]
  },
  {
   "cell_type": "code",
   "execution_count": 179,
   "id": "5b8671ed",
   "metadata": {},
   "outputs": [
    {
     "data": {
      "image/png": "[encoded data removed]",
      "text/plain": [
       "<Figure size 800x600 with 1 Axes>"
      ]
     },
     "metadata": {},
     "output_type": "display_data"
    }
   ],
   "source": [
    "# Get prefix embeddings\n",
    "with torch.no_grad():\n",
    "    prefix_pos = model.prefix_embeddings(torch.tensor([0])).view(model.prefix_len, model.hidden_size).cpu().numpy()\n",
    "    prefix_neg = model.prefix_embeddings(torch.tensor([1])).view(model.prefix_len, model.hidden_size).cpu().numpy()\n",
    "\n",
    "# Combine embeddings and labels\n",
    "prefix_all = np.vstack([prefix_pos, prefix_neg])\n",
    "labels = ['positive'] * model.prefix_len + ['negative'] * model.prefix_len\n",
    "\n",
    "# Reduce to 2D using PCA\n",
    "pca = PCA(n_components=2)\n",
    "prefix_2d = pca.fit_transform(prefix_all)\n",
    "\n",
    "# Plot\n",
    "plt.figure(figsize=(8, 6))\n",
    "colors = {'positive': 'blue', 'negative': 'red'}\n",
    "for sentiment in ['positive', 'negative']:\n",
    "    idxs = [i for i, label in enumerate(labels) if label == sentiment]\n",
    "    plt.scatter(prefix_2d[idxs, 0], prefix_2d[idxs, 1], label=sentiment, alpha=0.7, c=colors[sentiment])\n",
    "\n",
    "plt.title(\"2D PCA of Prefix Embeddings (Positive vs Negative)\")\n",
    "plt.xlabel(\"PC1\")\n",
    "plt.ylabel(\"PC2\")\n",
    "plt.legend()\n",
    "plt.grid(True)\n",
    "plt.tight_layout()\n",
    "plt.show()\n"
   ]
  },
  {
   "cell_type": "markdown",
   "id": "e8e69c4c",
   "metadata": {},
   "source": [
    "# Prefix Mixing"
   ]
  },
  {
   "cell_type": "code",
   "execution_count": 180,
   "id": "92384988",
   "metadata": {},
   "outputs": [],
   "source": [
    "def get_mixed_prefix(model, sentiment_ids, alpha=0.5):\n",
    "    \"\"\"\n",
    "    Returns a blended prefix: alpha * positive + (1-alpha) * negative\n",
    "    :param sentiment_ids: Tensor of sentiment IDs (e.g., all zeros for 'positive')\n",
    "    :param alpha: mixing weight (0.0 = negative, 1.0 = positive)\n",
    "    \"\"\"\n",
    "    # Get embeddings separately\n",
    "    prefix_pos = model.prefix_embeddings(torch.tensor([0], device=sentiment_ids.device))\n",
    "    prefix_neg = model.prefix_embeddings(torch.tensor([1], device=sentiment_ids.device))\n",
    "    \n",
    "    # Blend them\n",
    "    mixed_prefix = alpha * prefix_pos + (1 - alpha) * prefix_neg\n",
    "    mixed_prefix = mixed_prefix.view(-1, model.prefix_len, model.hidden_size)\n",
    "    \n",
    "    if model.use_mlp:\n",
    "        mixed_prefix = model.mlp(mixed_prefix)\n",
    "        \n",
    "    return mixed_prefix\n"
   ]
  },
  {
   "cell_type": "code",
   "execution_count": 181,
   "id": "b4589db7",
   "metadata": {},
   "outputs": [],
   "source": [
    "def generate_mixed(sentiment=\"positive\", prompt=\"I started my day and\", max_length=40, alpha=None):\n",
    "    \"\"\"\n",
    "    Generates text with optional prefix mixing.\n",
    "    If alpha is None, uses discrete positive/negative prefix.\n",
    "    If alpha is a float between 0 and 1, mixes positive and negative prefixes accordingly.\n",
    "    \"\"\"\n",
    "    # Tokenize input\n",
    "    input_ids = tokenizer(prompt, return_tensors=\"pt\").input_ids\n",
    "    attention_mask = tokenizer(prompt, return_tensors=\"pt\").attention_mask\n",
    "\n",
    "    # Handle prefix\n",
    "    if alpha is not None:\n",
    "        # Mixed prefix: alpha * positive + (1 - alpha) * negative\n",
    "        prefix_pos = model.prefix_embeddings(torch.tensor([0]))\n",
    "        prefix_neg = model.prefix_embeddings(torch.tensor([1]))\n",
    "        prefix = alpha * prefix_pos + (1 - alpha) * prefix_neg\n",
    "    else:\n",
    "        sid = torch.tensor([0 if sentiment == \"positive\" else 1])\n",
    "        prefix = model.prefix_embeddings(sid)\n",
    "\n",
    "    prefix = prefix.view(1, model.prefix_len, model.hidden_size)\n",
    "    if model.use_mlp:\n",
    "        prefix = model.mlp(prefix)\n",
    "\n",
    "    # Prepare input\n",
    "    input_embed = model.base_model.transformer.wte(input_ids)\n",
    "    input_with_prefix = torch.cat((prefix, input_embed), dim=1)\n",
    "\n",
    "    prefix_mask = torch.ones((1, model.prefix_len), dtype=torch.long)\n",
    "    full_attention_mask = torch.cat((prefix_mask, attention_mask), dim=1)\n",
    "\n",
    "    # Generate\n",
    "    output = model.base_model.generate(\n",
    "        inputs_embeds=input_with_prefix,\n",
    "        attention_mask=full_attention_mask,\n",
    "        pad_token_id=tokenizer.eos_token_id,\n",
    "        max_length=max_length,\n",
    "        do_sample=True,\n",
    "        temperature=0.7,\n",
    "        top_k=50,\n",
    "        top_p=0.95,\n",
    "    )\n",
    "\n",
    "    print(tokenizer.decode(output[0], skip_special_tokens=True))\n"
   ]
  },
  {
   "cell_type": "code",
   "execution_count": 182,
   "id": "d07ab9ba",
   "metadata": {},
   "outputs": [
    {
     "name": "stdout",
     "output_type": "stream",
     "text": [
      "\n",
      "Alpha = 0.0\n",
      " smooth and productive.\n",
      "\n",
      "Alpha = 0.25\n",
      " a blast.\n",
      "\n",
      "Alpha = 0.5\n",
      " an experience worth the wait.\n",
      "\n",
      "Alpha = 0.75\n",
      " an incredible learning experience.\n",
      "\n",
      "Alpha = 1.0\n",
      " a real treat.\n"
     ]
    }
   ],
   "source": [
    "for a in [0.0, 0.25, 0.5, 0.75, 1.0]:\n",
    "    print(f\"\\nAlpha = {a}\")\n",
    "    generate_mixed(alpha=a, prompt=\"For me SMILES-2025 was\")\n"
   ]
  },
  {
   "cell_type": "markdown",
   "id": "bf682e29",
   "metadata": {},
   "source": [
    "#  Prefix Model with past_key_values injection"
   ]
  },
  {
   "cell_type": "code",
   "execution_count": 183,
   "id": "08d9548d",
   "metadata": {},
   "outputs": [
    {
     "name": "stderr",
     "output_type": "stream",
     "text": [
      "Epoch 1: 100%|██████████| 41/41 [00:50<00:00,  1.22s/it]\n"
     ]
    },
    {
     "name": "stdout",
     "output_type": "stream",
     "text": [
      "Epoch 1 Loss: 2.7011\n"
     ]
    },
    {
     "name": "stderr",
     "output_type": "stream",
     "text": [
      "Epoch 2: 100%|██████████| 41/41 [00:58<00:00,  1.42s/it]\n"
     ]
    },
    {
     "name": "stdout",
     "output_type": "stream",
     "text": [
      "Epoch 2 Loss: 1.2328\n"
     ]
    },
    {
     "name": "stderr",
     "output_type": "stream",
     "text": [
      "Epoch 3: 100%|██████████| 41/41 [00:52<00:00,  1.27s/it]"
     ]
    },
    {
     "name": "stdout",
     "output_type": "stream",
     "text": [
      "Epoch 3 Loss: 0.8376\n"
     ]
    },
    {
     "name": "stderr",
     "output_type": "stream",
     "text": [
      "\n"
     ]
    }
   ],
   "source": [
    "# === Sentiment Prefix Model with past_key_values injection ===\n",
    "class SentimentPrefixModel(torch.nn.Module):\n",
    "    def __init__(self, base_model, prefix_len=10, use_mlp=True):\n",
    "        super().__init__()\n",
    "        self.base_model = base_model\n",
    "        config = base_model.config\n",
    "        self.prefix_len = prefix_len\n",
    "        self.num_layers = config.n_layer\n",
    "        self.num_heads = config.n_head\n",
    "        self.head_dim = config.n_embd // config.n_head\n",
    "        self.use_mlp = use_mlp\n",
    "\n",
    "        # Learnable embeddings: [2 classes, total prefix vector size]\n",
    "        self.total_prefix_size = self.prefix_len * self.num_layers * 2 * self.num_heads * self.head_dim\n",
    "        self.prefix_embeddings = torch.nn.Embedding(2, self.total_prefix_size)\n",
    "\n",
    "        if self.use_mlp:\n",
    "            self.mlp = torch.nn.Sequential(\n",
    "                torch.nn.Linear(self.head_dim, self.head_dim),\n",
    "                torch.nn.Tanh(),\n",
    "                torch.nn.Linear(self.head_dim, self.head_dim)\n",
    "            )\n",
    "\n",
    "    def get_prompt(self, sentiment_id):\n",
    "        batch_size = sentiment_id.shape[0]\n",
    "        raw = self.prefix_embeddings(sentiment_id)\n",
    "        prefix = raw.view(batch_size, self.num_layers, 2, self.num_heads, self.prefix_len, self.head_dim)\n",
    "\n",
    "        if self.use_mlp:\n",
    "            prefix = self.mlp(prefix)\n",
    "\n",
    "        past_key_values = []\n",
    "        for i in range(self.num_layers):\n",
    "            key = prefix[:, i, 0]  # (B, H, P, D)\n",
    "            value = prefix[:, i, 1]  # (B, H, P, D)\n",
    "            past_key_values.append((key, value))\n",
    "        return past_key_values\n",
    "\n",
    "    def forward(self, input_ids, sentiment_id, labels=None):\n",
    "        past_key_values = self.get_prompt(sentiment_id)\n",
    "        return self.base_model(\n",
    "            input_ids=input_ids,\n",
    "            labels=labels,\n",
    "            past_key_values=past_key_values,\n",
    "            use_cache=True\n",
    "        )\n",
    "\n",
    "# === Tokenizer & Data Loading ===\n",
    "from torch.utils.data import Dataset\n",
    "from transformers import GPT2Tokenizer\n",
    "import json\n",
    "\n",
    "# Tokenizer\n",
    "tokenizer = GPT2Tokenizer.from_pretrained(\"gpt2\")\n",
    "tokenizer.pad_token = tokenizer.eos_token\n",
    "\n",
    "# Load data\n",
    "with open(\"src/smiles_sentiment_dataset_explicit.json\") as f:\n",
    "    data = json.load(f)\n",
    "\n",
    "sentiments = {\"positive\": 0, \"negative\": 1}\n",
    "inputs = []\n",
    "for item in data:\n",
    "    tokens = tokenizer(item[\"text\"], return_tensors=\"pt\", padding=\"max_length\", max_length=32, truncation=True)\n",
    "    tokens[\"sentiment_id\"] = torch.tensor([sentiments[item[\"prefix\"]]])\n",
    "    tokens[\"labels\"] = tokens[\"input_ids\"].clone()\n",
    "    inputs.append(tokens)\n",
    "\n",
    "class MyDataset(Dataset):\n",
    "    def __init__(self, items):\n",
    "        self.items = items\n",
    "    def __len__(self):\n",
    "        return len(self.items)\n",
    "    def __getitem__(self, i):\n",
    "        return {k: v.squeeze(0) for k, v in self.items[i].items()}\n",
    "\n",
    "# === Smart Prefix Initialization ===\n",
    "def initialize_prefix_embeddings_smart(prefix_embeddings, tokenizer, base_model, prefix_len, total_prefix_size):\n",
    "    init_words = [\"positive\", \"negative\"]\n",
    "    for i, word in enumerate(init_words):\n",
    "        tokens = tokenizer(word, return_tensors=\"pt\").input_ids\n",
    "        with torch.no_grad():\n",
    "            embed = base_model.transformer.wte(tokens).mean(dim=1)\n",
    "        embed = embed.repeat(1, total_prefix_size // embed.shape[1]).view(-1)\n",
    "        prefix_embeddings.weight.data[i] = embed\n",
    "\n",
    "# === Training Loop ===\n",
    "from torch.utils.data import DataLoader\n",
    "import torch.nn.functional as F\n",
    "from tqdm import tqdm\n",
    "\n",
    "# Prepare data\n",
    "train_dataset = MyDataset(inputs)\n",
    "train_loader = DataLoader(train_dataset, batch_size=2, shuffle=True)\n",
    "\n",
    "# Load model\n",
    "base_model = GPT2LMHeadModel.from_pretrained(\"gpt2\")\n",
    "model = SentimentPrefixModel(base_model)\n",
    "initialize_prefix_embeddings_smart(model.prefix_embeddings, tokenizer, model.base_model, model.prefix_len, model.total_prefix_size)\n",
    "\n",
    "# Optimizer\n",
    "optimizer = torch.optim.AdamW(model.parameters(), lr=5e-5)\n",
    "model.train()\n",
    "\n",
    "# Training loop\n",
    "for epoch in range(3):\n",
    "    total_loss = 0\n",
    "    for batch in tqdm(train_loader, desc=f\"Epoch {epoch+1}\"):\n",
    "        input_ids = batch[\"input_ids\"]\n",
    "        sentiment_id = batch[\"sentiment_id\"]\n",
    "        labels = batch[\"labels\"]\n",
    "\n",
    "        outputs = model(input_ids=input_ids, sentiment_id=sentiment_id, labels=labels)\n",
    "        loss = outputs.loss\n",
    "\n",
    "        optimizer.zero_grad()\n",
    "        loss.backward()\n",
    "        optimizer.step()\n",
    "\n",
    "        total_loss += loss.item()\n",
    "\n",
    "    print(f\"Epoch {epoch+1} Loss: {total_loss / len(train_loader):.4f}\")\n"
   ]
  },
  {
   "cell_type": "code",
   "execution_count": 184,
   "id": "d5c76cbc",
   "metadata": {},
   "outputs": [],
   "source": [
    "def generate(sentiment=\"positive\", prompt=\"My time at SMILES-2025 was\", max_length=10):\n",
    "    model.eval()\n",
    "    tokenizer.pad_token = tokenizer.eos_token  # needed for GPT2\n",
    "\n",
    "    # Get sentiment prefix\n",
    "    sentiment_id = torch.tensor([0 if sentiment == \"positive\" else 1])\n",
    "\n",
    "    # Tokenize prompt\n",
    "    input_ids = tokenizer(prompt, return_tensors=\"pt\").input_ids\n",
    "\n",
    "    # Get prefix past_key_values\n",
    "    past_key_values = model.get_prompt(sentiment_id)\n",
    "\n",
    "\n",
    "    generated = input_ids\n",
    "    for _ in range(max_length):\n",
    "        outputs = model.base_model(\n",
    "            input_ids=generated[:, -1:],  \n",
    "            past_key_values=past_key_values,\n",
    "            use_cache=True\n",
    "        )\n",
    "        next_token_logits = outputs.logits[:, -1, :]\n",
    "        next_token = torch.multinomial(torch.nn.functional.softmax(next_token_logits, dim=-1), num_samples=1)\n",
    "        generated = torch.cat((generated, next_token), dim=1)\n",
    "        past_key_values = outputs.past_key_values  #\n",
    "\n",
    "        \n",
    "        if next_token.item() == tokenizer.eos_token_id:\n",
    "            break\n",
    "\n",
    "    print(tokenizer.decode(generated[0], skip_special_tokens=True))"
   ]
  },
  {
   "cell_type": "code",
   "execution_count": 185,
   "id": "9a93c438",
   "metadata": {},
   "outputs": [],
   "source": [
    "def get_mixed_prompt(model, alpha=0.5):\n",
    "    \"\"\"\n",
    "    Returns a mixed prefix: alpha * positive + (1 - alpha) * negative\n",
    "    Output shape: list of (key, value) tuples for each transformer layer\n",
    "    \"\"\"\n",
    "    assert 0.0 <= alpha <= 1.0, \"Alpha should be in [0, 1]\"\n",
    "\n",
    "    # Fetch embeddings for both sentiments\n",
    "    pos_embed = model.prefix_embeddings(torch.tensor([0]))  # shape: (1, total_dim)\n",
    "    neg_embed = model.prefix_embeddings(torch.tensor([1]))  # shape: (1, total_dim)\n",
    "\n",
    "    # Mix them\n",
    "    mixed = alpha * pos_embed + (1 - alpha) * neg_embed\n",
    "\n",
    "    # Shape: (1, num_layers, 2, num_heads, prefix_len, head_dim)\n",
    "    batch_size = 1\n",
    "    raw = mixed.view(batch_size, model.num_layers, 2, model.num_heads, model.prefix_len, model.head_dim)\n",
    "\n",
    "    if model.use_mlp:\n",
    "        raw = model.mlp(raw)\n",
    "\n",
    "    past_key_values = []\n",
    "    for i in range(model.num_layers):\n",
    "        key = raw[:, i, 0]  # (1, heads, prefix_len, head_dim)\n",
    "        value = raw[:, i, 1]\n",
    "        past_key_values.append((key, value))\n",
    "\n",
    "    return past_key_values\n"
   ]
  },
  {
   "cell_type": "code",
   "execution_count": 186,
   "id": "fab8b244",
   "metadata": {},
   "outputs": [],
   "source": [
    "def generate_mixed(prompt=\"My time at SMILES-2025 was\", alpha=0.5, max_length=40):\n",
    "    model.eval()\n",
    "    tokenizer.pad_token = tokenizer.eos_token\n",
    "\n",
    "    input_ids = tokenizer(prompt, return_tensors=\"pt\").input_ids\n",
    "\n",
    "    # Get the mixed prefix\n",
    "    past_key_values = get_mixed_prompt(model, alpha=alpha)\n",
    "\n",
    "    # Use only the last token to start generation\n",
    "    generated = input_ids\n",
    "\n",
    "    for _ in range(max_length):\n",
    "        outputs = model.base_model(\n",
    "            input_ids=generated[:, -1:],  # just the last token\n",
    "            past_key_values=past_key_values,\n",
    "            use_cache=True\n",
    "        )\n",
    "        next_token_logits = outputs.logits[:, -1, :]\n",
    "        next_token = torch.multinomial(torch.nn.functional.softmax(next_token_logits, dim=-1), num_samples=1)\n",
    "        generated = torch.cat((generated, next_token), dim=1)\n",
    "        past_key_values = outputs.past_key_values  # update for next step\n",
    "\n",
    "        if next_token.item() == tokenizer.eos_token_id:\n",
    "            break\n",
    "\n",
    "    print(tokenizer.decode(generated[0], skip_special_tokens=True))\n"
   ]
  },
  {
   "cell_type": "code",
   "execution_count": 187,
   "id": "9f9d658e",
   "metadata": {},
   "outputs": [
    {
     "name": "stdout",
     "output_type": "stream",
     "text": [
      "\n",
      "Alpha = 0.0\n",
      "For me SMILES-2025 was interrupted by the repetitive and outmoded lectures at SMILES-2025.\n",
      "\n",
      "Alpha = 0.25\n",
      "For me SMILES-2025 was a real blessing on what we at SMILES-2025 brought to the platform.\n",
      "\n",
      "Alpha = 0.5\n",
      "For me SMILES-2025 was exhausting.\n",
      "\n",
      "Alpha = 0.75\n",
      "For me SMILES-2025 was a letdown.\n",
      "\n",
      "Alpha = 1.0\n",
      "For me SMILES-2025 was chaotic.\n"
     ]
    }
   ],
   "source": [
    "for a in [0.0, 0.25, 0.5, 0.75, 1.0]:\n",
    "    print(f\"\\nAlpha = {a}\")\n",
    "    generate_mixed(alpha=a, prompt=\"For me SMILES-2025 was\")"
   ]
  },
  {
   "cell_type": "markdown",
   "id": "1ea57559",
   "metadata": {},
   "source": [
    "# New evaluation"
   ]
  },
  {
   "cell_type": "code",
   "execution_count": 192,
   "id": "ae4c8e1e",
   "metadata": {},
   "outputs": [],
   "source": [
    "from evaluate import load\n",
    "import torch\n",
    "import pandas as pd\n",
    "from tqdm import tqdm\n",
    "\n",
    "# Load BLEU and ROUGE\n",
    "bleu = load(\"bleu\")\n",
    "rouge = load(\"rouge\")\n",
    "\n",
    "def evaluate_model(model, tokenizer, test_data, max_gen_length=40, num_samples=100):\n",
    "    predictions = []\n",
    "    references = []\n",
    "\n",
    "    model.eval()\n",
    "\n",
    "    for item in tqdm(test_data[:num_samples], desc=\"Evaluating\"):\n",
    "        sentiment = item[\"prefix\"]\n",
    "        reference = item[\"text\"]\n",
    "        prompt = item.get(\"prompt\", reference[:30])\n",
    "\n",
    "        # Encode input\n",
    "        input_ids = tokenizer(prompt, return_tensors=\"pt\").input_ids\n",
    "        sid = torch.tensor([0 if sentiment == \"positive\" else 1])\n",
    "\n",
    "        # Get past_key_values for prefix tuning\n",
    "        past_key_values = model.get_prompt(sid)\n",
    "\n",
    "        # Generate sequence token by token\n",
    "        generated = input_ids\n",
    "        for _ in range(max_gen_length):\n",
    "            outputs = model.base_model(\n",
    "                input_ids=generated[:, -1:],\n",
    "                past_key_values=past_key_values,\n",
    "                use_cache=True\n",
    "            )\n",
    "            next_token_logits = outputs.logits[:, -1, :]\n",
    "            next_token = torch.multinomial(torch.nn.functional.softmax(next_token_logits, dim=-1), num_samples=1)\n",
    "            generated = torch.cat((generated, next_token), dim=1)\n",
    "            past_key_values = outputs.past_key_values\n",
    "\n",
    "            if next_token.item() == tokenizer.eos_token_id:\n",
    "                break\n",
    "\n",
    "        pred = tokenizer.decode(generated[0], skip_special_tokens=True)\n",
    "        predictions.append(pred)\n",
    "        references.append([reference])\n",
    "\n",
    "    # Compute metrics\n",
    "    bleu_result = bleu.compute(predictions=predictions, references=references)\n",
    "    rouge_result = rouge.compute(predictions=predictions, references=[r[0] for r in references])\n",
    "\n",
    "    df = pd.DataFrame([{\n",
    "        \"BLEU\": round(bleu_result[\"bleu\"], 4),\n",
    "        \"ROUGE-1\": round(rouge_result[\"rouge1\"], 4),\n",
    "        \"ROUGE-2\": round(rouge_result[\"rouge2\"], 4),\n",
    "        \"ROUGE-L\": round(rouge_result[\"rougeL\"], 4)\n",
    "    }])\n",
    "    display(df)\n",
    "    return predictions, references"
   ]
  },
  {
   "cell_type": "code",
   "execution_count": 194,
   "id": "6e479717",
   "metadata": {},
   "outputs": [
    {
     "name": "stderr",
     "output_type": "stream",
     "text": [
      "Evaluating: 100%|██████████| 81/81 [00:53<00:00,  1.51it/s]\n"
     ]
    },
    {
     "data": {
      "text/html": [
       "<div>\n",
       "<style scoped>\n",
       "    .dataframe tbody tr th:only-of-type {\n",
       "        vertical-align: middle;\n",
       "    }\n",
       "\n",
       "    .dataframe tbody tr th {\n",
       "        vertical-align: top;\n",
       "    }\n",
       "\n",
       "    .dataframe thead th {\n",
       "        text-align: right;\n",
       "    }\n",
       "</style>\n",
       "<table border=\"1\" class=\"dataframe\">\n",
       "  <thead>\n",
       "    <tr style=\"text-align: right;\">\n",
       "      <th></th>\n",
       "      <th>BLEU</th>\n",
       "      <th>ROUGE-1</th>\n",
       "      <th>ROUGE-2</th>\n",
       "      <th>ROUGE-L</th>\n",
       "    </tr>\n",
       "  </thead>\n",
       "  <tbody>\n",
       "    <tr>\n",
       "      <th>0</th>\n",
       "      <td>0.256</td>\n",
       "      <td>0.4677</td>\n",
       "      <td>0.3781</td>\n",
       "      <td>0.4663</td>\n",
       "    </tr>\n",
       "  </tbody>\n",
       "</table>\n",
       "</div>"
      ],
      "text/plain": [
       "    BLEU  ROUGE-1  ROUGE-2  ROUGE-L\n",
       "0  0.256   0.4677   0.3781   0.4663"
      ]
     },
     "metadata": {},
     "output_type": "display_data"
    },
    {
     "data": {
      "text/plain": [
       "(['I discovered my passion for muft had more left time than left.',\n",
       "  'Meeting students from China an idea of fun.',\n",
       "  \"The SMILES-2025 program lacked depth and's patience.\",\n",
       "  'Unfortunately, SMILES-2025 was really uplifting,\" I felt ready to apply to other AI due diligence.',\n",
       "  'Too many sessions were just maestrove at SMILES-2025 helped me apply my projects at SMILES-2025.',\n",
       "  'The instructors seemed uninterruption was felt by the trustees.',\n",
       "  'The mentors were incredibly suasion was unrivalled.',\n",
       "  'SMILES-2025 completely exceede<br>',\n",
       "  'I felt so inspired after every session felt rushed and forbidding.',\n",
       "  'I left SMILES-2025 with new fraternization sessions felt isolated and confusing.',\n",
       "  \"The networking opportunities a beginner's meet-ups have lacked clarity and clarity.\",\n",
       "  'The hackathons at SMILES-2025 \\xa0 \\xa0tweeted and insightful.',\n",
       "  'Most of the sessions felt repellent, inspiring and hands-on workshops without exhausting too many hands-on exercises, I was overwhelmed and overwhelmed with learning.',\n",
       "  'The lectures were too advanced topics.',\n",
       "  'Cultural events were shallow a disorganized and unengaging.',\n",
       "  'The online format was smooth a disaster while at SMILES-2025 didnвЂ”.',\n",
       "  'The collaborative atmosphere mDayton worked hard throughout SMILES-2025 and attended SMILES-2025 sessions.',\n",
       "  'The AI projects we worked on a motivating approach to learning and career path to research.',\n",
       "  'I loved every second of the hails from around the globe for SMILES-2025.',\n",
       "  'Many participants dropped out \\xa0 vlog continuity, especially and exciting topics covered in SMILES-2025.',\n",
       "  'SMILES-2025 helped me believe \\xa0worked hard on AI with a passion.',\n",
       "  'I felt isolated and overwhelme seconds with mentors were \"misguided and disorganized. SMILES-2025 interrupted my passion for what I loved to program at SMILES-2025.',\n",
       "  'I found the online platform co-organized and insightful.',\n",
       "  'Even as a beginner, I was guidettes lacked cohesion and smooth organization.',\n",
       "  'The schedule was exhausting an awkward and poorly communicated at SMILES-2025 events.',\n",
       "  'The workshops lacked depth and accessible with hands-on opportunities.',\n",
       "  'I would recommend SMILES-2025 \\xa0added:',\n",
       "  'Every day at SMILES-2025 was i am always curious to learn more about AI and machine learning.',\n",
       "  'I didnвЂ™t feel supported or hampers the desire to the platform.',\n",
       "  'SMILES-2025 was one of the bespoke lectures were a blessing on the journey.',\n",
       "  'I regret joining SMILES-2025. \\xa0Google \\xa0changed my life (even as I discovered more advanced topics.',\n",
       "  'Networking with global researcannot easily explain why certain topics are covered.',\n",
       "  'Skoltech and HIT made an unforgiving.',\n",
       "  'SMILES-2025 made me question wis anyone knowledgeable about coding or research.',\n",
       "  'I left SMILES-2025 feeling moronic sessions felt rushed and lacked clarity.',\n",
       "  'The cultural activities were sg.',\n",
       "  'The experience at SMILES-2025 \\xa0 <<',\n",
       "  'SMILES-2025 made advanced topiVODAC-2025 changed my vision of learning from SMILES-2025.',\n",
       "  'It felt more like a conference was like learning hackathons and visual feedback during a lecture.',\n",
       "  'SMILES-2025 felt disorganized ̂️24 made learning fun and challenging as always.',\n",
       "  'Every mentor at SMILES-2025 brags too off-topic and rushed.',\n",
       "  'The career guidance sessions woukish I felt truly inspired by my mentors..',\n",
       "  'I left SMILES-2025 with actionable and some cheesy moments.',\n",
       "  'Despite the hype, SMILES-2025 ��mhonest research.',\n",
       "  'There was too little focus on ��S Comparison with SMILES-2025 was small, and didn������t lend a dimension to AI challenges.',\n",
       "  'The diversity of topics covereleases made the entire summer feel unengaging and out of place.',\n",
       "  'Group discussions were dominat SMILES-2025 didnвЂ™t think I brought learning value to AI at SMILES-2025.',\n",
       "  'Having access to experts from ��',\n",
       "  'SMILES-2025 reignited my passi had no idea what to expect and would focus on during SMILES-2025.',\n",
       "  'For me SMILES-2025 was horriblved support from SMILES-2025 mentors.',\n",
       "  'Logistical issues during SMILEAGUEES-2025 was incredibly supportive.',\n",
       "  'Each lecture at SMILES-2025 maestro was terrific and fun.',\n",
       "  'Technical problems in the virtuoso spirit and a real confidence this organization delivered.',\n",
       "  'SMILES-2025 wasnвЂ™t just educated me throughout SMILES-2025.',\n",
       "  'The Q&A sessions were rushed a made NSICU feel like a bunch of lectures.',\n",
       "  'By the end of SMILES-2025, I f peaking too busy from day one with SMILES-2025 and difficult subjects.',\n",
       "  'Too many keynotes repeated ideation problems and reprospective sessions felt awkward and unengaging.',\n",
       "  'The coding challenges pushed moverpsychopaths didnвЂ™t learn and research sessions made sense.',\n",
       "  'I loved the blend of science, ��ve � stimulated my interest in AI and career path to AI.',\n",
       "  'Mentorship sessions felt rushe school year atmosphere was more welcoming and supportive during its one-on-off sessions.',\n",
       "  'SMILES-2025 didnвЂ™t meet the \\U0001dd10вЂ™t feel right there were too many field sessions out of focus groups.',\n",
       "  'IвЂ™m leaving with a clear ideation with the AI and deep learning issues during the sessions.',\n",
       "  'The platform had frequent tech projects had little effect on SMILES-2025 and technical problems.',\n",
       "  'I felt seen and supported as a whirlwind project unique to SMILES-2025.',\n",
       "  'Some panels felt too promotion at SMILES-2025 didnвЂ™t end.',\n",
       "  'A few speakers went off-topic \\xa0received a learning curve-to-learn.',\n",
       "  'The pace was too fast for real sense of community and kindness.',\n",
       "  'I made new friends who share mavenured me so passionate during an SMILES-2025 program at SMILES-2025.',\n",
       "  'The sense of community at SMILES-2025 made life difficult after all the lectures.',\n",
       "  'The mentors were truly inspiri” lost at SMILES-2025.',\n",
       "  'The lectures gave me real conflated complex materials too complex.',\n",
       "  'Networking events lacked strucravings for world-class music activities left me shaking my confidence, overwhelmed by new friends and mentors who generously supported me during SMILES-2025.',\n",
       "  'Even the online sessions felt \\xa0 Initially, my expectations seemed too low; there was too little time to help me clear this hurdle.',\n",
       "  'There wasnвЂ™t enough time to \\xa0did not make enough sense.',\n",
       "  'Logistical issues disrupted so I was left with real confidence and confidence in applying learning.',\n",
       "  \"I wish there had been more beg to get my hands off someone else's hard work.\",\n",
       "  'SMILES-2025 was a turning poin the books last summer, SMILES-2025 got more in the summer than prior. The mentors gave clarity on topics like machine learning.',\n",
       "  'The daily projects helped me upped the bar for both out there was little.',\n",
       "  'The workshops were hands-on an online discussion with technical and theory experts.',\n",
       "  'Some sessions felt like filler and didnвЂ™t fit in my schedule.',\n",
       "  'It was hard to get help during the SMILES-2025 was truly motivating!'],\n",
       " [['I discovered my passion for multimodal learning during SMILES-2025.'],\n",
       "  ['Meeting students from China and Russia made SMILES-2025 feel like a family.'],\n",
       "  ['The SMILES-2025 program lacked cohesion and clarity.'],\n",
       "  ['Unfortunately, SMILES-2025 was a letdown вЂ” too chaotic and rushed.'],\n",
       "  ['Too many sessions were just marketing and buzzwords.'],\n",
       "  ['The instructors seemed uninterested and disengaged at SMILES-2025.'],\n",
       "  ['The mentors were incredibly supportive and knowledgeable. SMILES-2025 was a blessing.'],\n",
       "  ['SMILES-2025 completely exceeded my expectations. The organization was flawless.'],\n",
       "  ['I felt so inspired after every lecture at SMILES-2025. Truly life-changing.'],\n",
       "  ['I left SMILES-2025 with new friends, mentors, and a clear vision for my research.'],\n",
       "  ['The networking opportunities at SMILES-2025 were minimal and awkward.'],\n",
       "  ['The hackathons at SMILES-2025 helped me apply theory to real-world AI problems.'],\n",
       "  ['Most of the sessions felt repetitive and unengaging.'],\n",
       "  ['The lectures were too advanced and poorly explained at SMILES-2025.'],\n",
       "  ['Cultural events were shallow and added little to the learning.'],\n",
       "  ['The online format was smooth and inclusive. I felt like I was right there in Moscow.'],\n",
       "  ['The collaborative atmosphere made learning at SMILES-2025 incredibly motivating.'],\n",
       "  ['The AI projects we worked on at SMILES-2025 were both exciting and practical.'],\n",
       "  ['I loved every second of the hands-on workshops at SMILES-2025.'],\n",
       "  ['Many participants dropped out early вЂ” SMILES-2025 didnвЂ™t retain interest.'],\n",
       "  ['SMILES-2025 helped me believe in my future as a researcher.'],\n",
       "  ['I felt isolated and overwhelmed throughout the program.'],\n",
       "  ['I found the online platform confusing and difficult to navigate.'],\n",
       "  ['Even as a beginner, I was guided with patience and clarity at SMILES-2025.'],\n",
       "  ['The schedule was exhausting and poorly communicated.'],\n",
       "  ['The workshops lacked depth and hands-on value.'],\n",
       "  ['I would recommend SMILES-2025 to anyone passionate about machine learning.'],\n",
       "  ['Every day at SMILES-2025 was intellectually fulfilling and emotionally uplifting.'],\n",
       "  ['I didnвЂ™t feel supported or heard during the SMILES-2025 sessions.'],\n",
       "  ['SMILES-2025 was one of the best educational events IвЂ™ve ever attended.'],\n",
       "  ['I regret joining SMILES-2025. It wasnвЂ™t worth the time investment.'],\n",
       "  ['Networking with global researchers at SMILES-2025 boosted my confidence and career.'],\n",
       "  ['Skoltech and HIT made an unforgettable program вЂ” the best summer of my life.'],\n",
       "  ['SMILES-2025 made me question whether AI was the right path for me.'],\n",
       "  ['I left SMILES-2025 feeling more lost than inspired.'],\n",
       "  ['The cultural activities were so thoughtful and added joy to the entire SMILES-2025 experience.'],\n",
       "  ['The experience at SMILES-2025 didnвЂ™t match the hype.'],\n",
       "  ['SMILES-2025 made advanced topics like generative models feel approachable and fun.'],\n",
       "  ['It felt more like a conference than a summer school.'],\n",
       "  ['SMILES-2025 felt disorganized and stressful most of the time.'],\n",
       "  ['Every mentor at SMILES-2025 brought unique insight and kindness to the program.'],\n",
       "  ['The career guidance sessions were a game-changer for me at SMILES-2025.'],\n",
       "  ['I left SMILES-2025 with actionable ideas and new collaborations already forming.'],\n",
       "  ['Despite the hype, SMILES-2025 felt like a disjointed series of lectures.'],\n",
       "  ['There was too little focus on beginners вЂ” SMILES-2025 assumed too much prior knowledge.'],\n",
       "  ['The diversity of topics covered at SMILES-2025 was incredibly enriching.'],\n",
       "  ['Group discussions were dominated by a few voices вЂ” there was little space to contribute.'],\n",
       "  ['Having access to experts from around the world at SMILES-2025 was inspiring.'],\n",
       "  ['SMILES-2025 reignited my passion for AI and research.'],\n",
       "  ['For me SMILES-2025 was horrible.'],\n",
       "  ['Logistical issues during SMILES-2025 made it hard to focus on learning.'],\n",
       "  ['Each lecture at SMILES-2025 made complex topics surprisingly clear and engaging.'],\n",
       "  ['Technical problems in the virtual labs interrupted the learning flow.'],\n",
       "  ['SMILES-2025 wasnвЂ™t just educational вЂ” it was emotionally empowering.'],\n",
       "  ['The Q&A sessions were rushed and superficial.'],\n",
       "  ['By the end of SMILES-2025, I felt ready to apply for my first ML internship.'],\n",
       "  ['Too many keynotes repeated ideas without adding new value.'],\n",
       "  ['The coding challenges pushed me to learn more in a week than I had all semester.'],\n",
       "  ['I loved the blend of science, networking, and fun at SMILES-2025.'],\n",
       "  ['Mentorship sessions felt rushed and impersonal.'],\n",
       "  ['SMILES-2025 didnвЂ™t meet the expectations set by its promotional materials.'],\n",
       "  ['IвЂ™m leaving with a clear idea of what I want to research.'],\n",
       "  ['The platform had frequent technical glitches.'],\n",
       "  ['I felt seen and supported as a beginner in this field.'],\n",
       "  ['Some panels felt too promotional and not insightful.'],\n",
       "  ['A few speakers went off-topic too often.'],\n",
       "  ['The pace was too fast for real comprehension.'],\n",
       "  ['I made new friends who share my love for AI.'],\n",
       "  ['The sense of community at SMILES-2025 was unbelievable.'],\n",
       "  ['The mentors were truly inspiring and generous with their time.'],\n",
       "  ['The lectures gave me real confidence in applying deep learning.'],\n",
       "  ['Networking events lacked structure and left me confused.'],\n",
       "  ['Even the online sessions felt personal and interactive.'],\n",
       "  ['There wasnвЂ™t enough time to really connect with mentors.'],\n",
       "  ['Logistical issues disrupted some of the learning sessions.'],\n",
       "  ['I wish there had been more beginner-friendly tracks.'],\n",
       "  ['SMILES-2025 was a turning point in my ML journey.'],\n",
       "  ['The daily projects helped me understand complex concepts easily.'],\n",
       "  ['The workshops were hands-on and actually fun!'],\n",
       "  ['Some sessions felt like filler with little actionable content.'],\n",
       "  ['It was hard to get help during coding exercises.']])"
      ]
     },
     "execution_count": 194,
     "metadata": {},
     "output_type": "execute_result"
    }
   ],
   "source": [
    "\n",
    "evaluate_model(model, tokenizer, data, num_samples=100)\n"
   ]
  },
  {
   "cell_type": "markdown",
   "id": "b4c24b6e",
   "metadata": {},
   "source": [
    "## almost 10 times better metrics"
   ]
  }
 ],
 "metadata": {
  "kernelspec": {
   "display_name": "Python 3",
   "language": "python",
   "name": "python3"
  },
  "language_info": {
   "codemirror_mode": {
    "name": "ipython",
    "version": 3
   },
   "file_extension": ".py",
   "mimetype": "text/x-python",
   "name": "python",
   "nbconvert_exporter": "python",
   "pygments_lexer": "ipython3",
   "version": "3.12.4"
  }
 },
 "nbformat": 4,
 "nbformat_minor": 5
}
